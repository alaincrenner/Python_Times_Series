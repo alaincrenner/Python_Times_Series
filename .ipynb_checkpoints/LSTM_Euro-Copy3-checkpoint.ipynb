{
 "cells": [
  {
   "cell_type": "code",
   "execution_count": 156,
   "id": "b5bd8fde-38ab-4590-9277-38fb6884ae88",
   "metadata": {},
   "outputs": [],
   "source": [
    "import numpy as np # linear algebra\n",
    "import pandas as pd # data processing, CSV file I/O (e.g. pd.read_csv)\n",
    "\n",
    "\n",
    "import matplotlib as mpl\n",
    "import matplotlib.pyplot as plt   # data visualization\n",
    "import seaborn as sns \n"
   ]
  },
  {
   "cell_type": "code",
   "execution_count": 157,
   "id": "a741080a-5ee2-452d-a1cf-99d532d95b05",
   "metadata": {},
   "outputs": [],
   "source": [
    "path = 'C:/Users/rapha/Documents/CNAM/HO/2A/Python_Times_Series/DataSet2.xlsx'"
   ]
  },
  {
   "cell_type": "code",
   "execution_count": 159,
   "id": "70e35148-5d61-40c7-a22b-c834f86eabac",
   "metadata": {
    "tags": []
   },
   "outputs": [
    {
     "data": {
      "text/html": [
       "<div>\n",
       "<style scoped>\n",
       "    .dataframe tbody tr th:only-of-type {\n",
       "        vertical-align: middle;\n",
       "    }\n",
       "\n",
       "    .dataframe tbody tr th {\n",
       "        vertical-align: top;\n",
       "    }\n",
       "\n",
       "    .dataframe thead th {\n",
       "        text-align: right;\n",
       "    }\n",
       "</style>\n",
       "<table border=\"1\" class=\"dataframe\">\n",
       "  <thead>\n",
       "    <tr style=\"text-align: right;\">\n",
       "      <th></th>\n",
       "      <th>Date</th>\n",
       "      <th>Dernier</th>\n",
       "      <th>Ouv.</th>\n",
       "      <th>Plus Haut</th>\n",
       "      <th>Plus Bas</th>\n",
       "    </tr>\n",
       "  </thead>\n",
       "  <tbody>\n",
       "    <tr>\n",
       "      <th>0</th>\n",
       "      <td>2000-01-06</td>\n",
       "      <td>1.0324</td>\n",
       "      <td>1.0325</td>\n",
       "      <td>1.0419</td>\n",
       "      <td>1.0275</td>\n",
       "    </tr>\n",
       "    <tr>\n",
       "      <th>1</th>\n",
       "      <td>2000-01-07</td>\n",
       "      <td>1.0292</td>\n",
       "      <td>1.0327</td>\n",
       "      <td>1.0333</td>\n",
       "      <td>1.0252</td>\n",
       "    </tr>\n",
       "    <tr>\n",
       "      <th>2</th>\n",
       "      <td>2000-01-10</td>\n",
       "      <td>1.0257</td>\n",
       "      <td>1.0288</td>\n",
       "      <td>1.0303</td>\n",
       "      <td>1.0213</td>\n",
       "    </tr>\n",
       "    <tr>\n",
       "      <th>3</th>\n",
       "      <td>2000-01-11</td>\n",
       "      <td>1.0335</td>\n",
       "      <td>1.0259</td>\n",
       "      <td>1.0342</td>\n",
       "      <td>1.0241</td>\n",
       "    </tr>\n",
       "    <tr>\n",
       "      <th>4</th>\n",
       "      <td>2000-01-12</td>\n",
       "      <td>1.0312</td>\n",
       "      <td>1.0322</td>\n",
       "      <td>1.0370</td>\n",
       "      <td>1.0258</td>\n",
       "    </tr>\n",
       "  </tbody>\n",
       "</table>\n",
       "</div>"
      ],
      "text/plain": [
       "        Date  Dernier    Ouv.   Plus Haut  Plus Bas\n",
       "0 2000-01-06   1.0324  1.0325      1.0419    1.0275\n",
       "1 2000-01-07   1.0292  1.0327      1.0333    1.0252\n",
       "2 2000-01-10   1.0257  1.0288      1.0303    1.0213\n",
       "3 2000-01-11   1.0335  1.0259      1.0342    1.0241\n",
       "4 2000-01-12   1.0312  1.0322      1.0370    1.0258"
      ]
     },
     "execution_count": 159,
     "metadata": {},
     "output_type": "execute_result"
    }
   ],
   "source": [
    "df = pd.read_excel(path, sheet_name='Feuil3')\n",
    "df.head()"
   ]
  },
  {
   "cell_type": "code",
   "execution_count": 164,
   "id": "0355afb6-7b83-48f4-9770-2fe7ccadd5a6",
   "metadata": {},
   "outputs": [],
   "source": [
    "df.columns = ['Date','Cloture', 'Ouverture', 'Plus haut', 'Plus bas']\n",
    "\n"
   ]
  },
  {
   "cell_type": "code",
   "execution_count": 161,
   "id": "f8d0e112-fcf0-48ff-8690-cafa83a2d162",
   "metadata": {},
   "outputs": [
    {
     "data": {
      "text/html": [
       "<div>\n",
       "<style scoped>\n",
       "    .dataframe tbody tr th:only-of-type {\n",
       "        vertical-align: middle;\n",
       "    }\n",
       "\n",
       "    .dataframe tbody tr th {\n",
       "        vertical-align: top;\n",
       "    }\n",
       "\n",
       "    .dataframe thead th {\n",
       "        text-align: right;\n",
       "    }\n",
       "</style>\n",
       "<table border=\"1\" class=\"dataframe\">\n",
       "  <thead>\n",
       "    <tr style=\"text-align: right;\">\n",
       "      <th></th>\n",
       "      <th>Date</th>\n",
       "      <th>Cloture</th>\n",
       "      <th>Ouverture</th>\n",
       "      <th>Plus haut</th>\n",
       "      <th>Plus bas</th>\n",
       "    </tr>\n",
       "  </thead>\n",
       "  <tbody>\n",
       "    <tr>\n",
       "      <th>0</th>\n",
       "      <td>2000-01-06</td>\n",
       "      <td>1.032400</td>\n",
       "      <td>1.032500</td>\n",
       "      <td>1.041900</td>\n",
       "      <td>1.027500</td>\n",
       "    </tr>\n",
       "    <tr>\n",
       "      <th>1</th>\n",
       "      <td>2000-01-07</td>\n",
       "      <td>1.029200</td>\n",
       "      <td>1.032600</td>\n",
       "      <td>1.037600</td>\n",
       "      <td>1.026350</td>\n",
       "    </tr>\n",
       "    <tr>\n",
       "      <th>2</th>\n",
       "      <td>2000-01-08</td>\n",
       "      <td>1.029200</td>\n",
       "      <td>1.032600</td>\n",
       "      <td>1.037600</td>\n",
       "      <td>1.026350</td>\n",
       "    </tr>\n",
       "    <tr>\n",
       "      <th>3</th>\n",
       "      <td>2000-01-09</td>\n",
       "      <td>1.029200</td>\n",
       "      <td>1.032700</td>\n",
       "      <td>1.033300</td>\n",
       "      <td>1.025200</td>\n",
       "    </tr>\n",
       "    <tr>\n",
       "      <th>4</th>\n",
       "      <td>2000-01-10</td>\n",
       "      <td>1.025700</td>\n",
       "      <td>1.028800</td>\n",
       "      <td>1.030300</td>\n",
       "      <td>1.021300</td>\n",
       "    </tr>\n",
       "    <tr>\n",
       "      <th>...</th>\n",
       "      <td>...</td>\n",
       "      <td>...</td>\n",
       "      <td>...</td>\n",
       "      <td>...</td>\n",
       "      <td>...</td>\n",
       "    </tr>\n",
       "    <tr>\n",
       "      <th>8681</th>\n",
       "      <td>2023-10-13</td>\n",
       "      <td>1.053674</td>\n",
       "      <td>1.058860</td>\n",
       "      <td>1.061040</td>\n",
       "      <td>1.054496</td>\n",
       "    </tr>\n",
       "    <tr>\n",
       "      <th>8682</th>\n",
       "      <td>2023-10-14</td>\n",
       "      <td>1.053674</td>\n",
       "      <td>1.058051</td>\n",
       "      <td>1.059882</td>\n",
       "      <td>1.052106</td>\n",
       "    </tr>\n",
       "    <tr>\n",
       "      <th>8683</th>\n",
       "      <td>2023-10-15</td>\n",
       "      <td>1.053674</td>\n",
       "      <td>1.053674</td>\n",
       "      <td>1.055855</td>\n",
       "      <td>1.049615</td>\n",
       "    </tr>\n",
       "    <tr>\n",
       "      <th>8684</th>\n",
       "      <td>2023-10-16</td>\n",
       "      <td>1.052155</td>\n",
       "      <td>1.052155</td>\n",
       "      <td>1.055465</td>\n",
       "      <td>1.051635</td>\n",
       "    </tr>\n",
       "    <tr>\n",
       "      <th>8685</th>\n",
       "      <td>2023-10-17</td>\n",
       "      <td>1.054519</td>\n",
       "      <td>1.054228</td>\n",
       "      <td>1.056777</td>\n",
       "      <td>1.052633</td>\n",
       "    </tr>\n",
       "  </tbody>\n",
       "</table>\n",
       "<p>8686 rows × 5 columns</p>\n",
       "</div>"
      ],
      "text/plain": [
       "           Date   Cloture  Ouverture  Plus haut  Plus bas\n",
       "0    2000-01-06  1.032400   1.032500   1.041900  1.027500\n",
       "1    2000-01-07  1.029200   1.032600   1.037600  1.026350\n",
       "2    2000-01-08  1.029200   1.032600   1.037600  1.026350\n",
       "3    2000-01-09  1.029200   1.032700   1.033300  1.025200\n",
       "4    2000-01-10  1.025700   1.028800   1.030300  1.021300\n",
       "...         ...       ...        ...        ...       ...\n",
       "8681 2023-10-13  1.053674   1.058860   1.061040  1.054496\n",
       "8682 2023-10-14  1.053674   1.058051   1.059882  1.052106\n",
       "8683 2023-10-15  1.053674   1.053674   1.055855  1.049615\n",
       "8684 2023-10-16  1.052155   1.052155   1.055465  1.051635\n",
       "8685 2023-10-17  1.054519   1.054228   1.056777  1.052633\n",
       "\n",
       "[8686 rows x 5 columns]"
      ]
     },
     "execution_count": 161,
     "metadata": {},
     "output_type": "execute_result"
    }
   ],
   "source": [
    "# Créez un DataFrame contenant la plage de dates\n",
    "min_date = df['Date'].min()\n",
    "max_date = df['Date'].max()\n",
    "\n",
    "date_range = pd.date_range(start=min_date, end=max_date)\n",
    "date_df = pd.DataFrame({'Date': date_range})\n",
    "\n",
    "# Fusionnez les DataFrames en utilisant la colonne \"Date\" comme clé de fusion\n",
    "merged_df = pd.merge(date_df, df, on='Date', how='left')\n",
    "\n",
    "# Remplissez les valeurs manquantes avec les données appropriées\n",
    "merged_df['Cloture'] = merged_df['Cloture'].fillna(method='ffill')\n",
    "merged_df['Ouverture'] = merged_df['Ouverture'].rolling(window=3, min_periods=1).mean()\n",
    "merged_df['Plus haut'] = merged_df['Plus haut'].rolling(window=3, min_periods=1).mean()\n",
    "merged_df['Plus bas'] = merged_df['Plus bas'].rolling(window=3, min_periods=1).mean()\n",
    "\n",
    "\n",
    "\n",
    "merged_df"
   ]
  },
  {
   "cell_type": "code",
   "execution_count": 162,
   "id": "65ddb602-c36e-4c89-8baa-84d41a6837a7",
   "metadata": {},
   "outputs": [
    {
     "data": {
      "text/html": [
       "<div>\n",
       "<style scoped>\n",
       "    .dataframe tbody tr th:only-of-type {\n",
       "        vertical-align: middle;\n",
       "    }\n",
       "\n",
       "    .dataframe tbody tr th {\n",
       "        vertical-align: top;\n",
       "    }\n",
       "\n",
       "    .dataframe thead th {\n",
       "        text-align: right;\n",
       "    }\n",
       "</style>\n",
       "<table border=\"1\" class=\"dataframe\">\n",
       "  <thead>\n",
       "    <tr style=\"text-align: right;\">\n",
       "      <th></th>\n",
       "      <th>Date</th>\n",
       "      <th>Cloture</th>\n",
       "    </tr>\n",
       "  </thead>\n",
       "  <tbody>\n",
       "    <tr>\n",
       "      <th>0</th>\n",
       "      <td>2000-01-06</td>\n",
       "      <td>1.0324</td>\n",
       "    </tr>\n",
       "    <tr>\n",
       "      <th>1</th>\n",
       "      <td>2000-01-07</td>\n",
       "      <td>1.0292</td>\n",
       "    </tr>\n",
       "    <tr>\n",
       "      <th>2</th>\n",
       "      <td>2000-01-08</td>\n",
       "      <td>1.0292</td>\n",
       "    </tr>\n",
       "    <tr>\n",
       "      <th>3</th>\n",
       "      <td>2000-01-09</td>\n",
       "      <td>1.0292</td>\n",
       "    </tr>\n",
       "    <tr>\n",
       "      <th>4</th>\n",
       "      <td>2000-01-10</td>\n",
       "      <td>1.0257</td>\n",
       "    </tr>\n",
       "  </tbody>\n",
       "</table>\n",
       "</div>"
      ],
      "text/plain": [
       "        Date  Cloture\n",
       "0 2000-01-06   1.0324\n",
       "1 2000-01-07   1.0292\n",
       "2 2000-01-08   1.0292\n",
       "3 2000-01-09   1.0292\n",
       "4 2000-01-10   1.0257"
      ]
     },
     "execution_count": 162,
     "metadata": {},
     "output_type": "execute_result"
    }
   ],
   "source": [
    "# Affichez le DataFrame final avec les lignes ajoutées pour les jours manquants\n",
    "merged_df.head()\n",
    "merged_df.drop('Ouverture', axis=1, inplace=True)\n",
    "merged_df.drop('Plus haut', axis=1, inplace=True)\n",
    "merged_df.drop('Plus bas', axis=1, inplace=True)\n",
    "merged_df.head()"
   ]
  },
  {
   "cell_type": "code",
   "execution_count": 163,
   "id": "260cdcf4-e52f-4144-8b03-77920ff1b4a1",
   "metadata": {},
   "outputs": [
    {
     "data": {
      "text/plain": [
       "<bound method NDFrame.tail of            Date   Cloture\n",
       "0    2000-01-06  1.032400\n",
       "1    2000-01-07  1.029200\n",
       "2    2000-01-08  1.029200\n",
       "3    2000-01-09  1.029200\n",
       "4    2000-01-10  1.025700\n",
       "...         ...       ...\n",
       "8681 2023-10-13  1.053674\n",
       "8682 2023-10-14  1.053674\n",
       "8683 2023-10-15  1.053674\n",
       "8684 2023-10-16  1.052155\n",
       "8685 2023-10-17  1.054519\n",
       "\n",
       "[8686 rows x 2 columns]>"
      ]
     },
     "execution_count": 163,
     "metadata": {},
     "output_type": "execute_result"
    }
   ],
   "source": [
    "merged_df.tail"
   ]
  },
  {
   "cell_type": "code",
   "execution_count": 55,
   "id": "4e667102-0cc7-4bcb-a415-b9a5145efbc7",
   "metadata": {},
   "outputs": [],
   "source": [
    "min_date = merged_df['Date'].min()\n",
    "max_date = pd.to_datetime('today')\n",
    "\n",
    "date_range = pd.date_range(start=min_date, end=max_date)\n",
    "date_df = pd.DataFrame({'Date': date_range})\n",
    "\n",
    "# Fusionnez les DataFrames en utilisant la colonne \"Date\" comme clé de fusion\n",
    "merged_df = pd.merge(date_df, merged_df, on='Date', how='left')\n",
    "\n",
    "merged_df['Cloture'].fillna(1.054519, inplace=True, downcast='infer')\n",
    "\n",
    "timeseries = merged_df[\"Cloture\"].values.astype('float32')\n",
    "\n",
    "\n",
    "\n",
    "\n"
   ]
  },
  {
   "cell_type": "code",
   "execution_count": 56,
   "id": "11192a4a-5b91-47f0-adbd-e51584c89f23",
   "metadata": {},
   "outputs": [
    {
     "data": {
      "text/html": [
       "<div>\n",
       "<style scoped>\n",
       "    .dataframe tbody tr th:only-of-type {\n",
       "        vertical-align: middle;\n",
       "    }\n",
       "\n",
       "    .dataframe tbody tr th {\n",
       "        vertical-align: top;\n",
       "    }\n",
       "\n",
       "    .dataframe thead th {\n",
       "        text-align: right;\n",
       "    }\n",
       "</style>\n",
       "<table border=\"1\" class=\"dataframe\">\n",
       "  <thead>\n",
       "    <tr style=\"text-align: right;\">\n",
       "      <th></th>\n",
       "      <th>Date</th>\n",
       "      <th>Cloture</th>\n",
       "    </tr>\n",
       "  </thead>\n",
       "  <tbody>\n",
       "    <tr>\n",
       "      <th>0</th>\n",
       "      <td>2000-01-06</td>\n",
       "      <td>1.032400</td>\n",
       "    </tr>\n",
       "    <tr>\n",
       "      <th>1</th>\n",
       "      <td>2000-01-07</td>\n",
       "      <td>1.029200</td>\n",
       "    </tr>\n",
       "    <tr>\n",
       "      <th>2</th>\n",
       "      <td>2000-01-08</td>\n",
       "      <td>1.029200</td>\n",
       "    </tr>\n",
       "    <tr>\n",
       "      <th>3</th>\n",
       "      <td>2000-01-09</td>\n",
       "      <td>1.029200</td>\n",
       "    </tr>\n",
       "    <tr>\n",
       "      <th>4</th>\n",
       "      <td>2000-01-10</td>\n",
       "      <td>1.025700</td>\n",
       "    </tr>\n",
       "    <tr>\n",
       "      <th>...</th>\n",
       "      <td>...</td>\n",
       "      <td>...</td>\n",
       "    </tr>\n",
       "    <tr>\n",
       "      <th>8763</th>\n",
       "      <td>2024-01-03</td>\n",
       "      <td>1.054519</td>\n",
       "    </tr>\n",
       "    <tr>\n",
       "      <th>8764</th>\n",
       "      <td>2024-01-04</td>\n",
       "      <td>1.054519</td>\n",
       "    </tr>\n",
       "    <tr>\n",
       "      <th>8765</th>\n",
       "      <td>2024-01-05</td>\n",
       "      <td>1.054519</td>\n",
       "    </tr>\n",
       "    <tr>\n",
       "      <th>8766</th>\n",
       "      <td>2024-01-06</td>\n",
       "      <td>1.054519</td>\n",
       "    </tr>\n",
       "    <tr>\n",
       "      <th>8767</th>\n",
       "      <td>2024-01-07</td>\n",
       "      <td>1.054519</td>\n",
       "    </tr>\n",
       "  </tbody>\n",
       "</table>\n",
       "<p>8768 rows × 2 columns</p>\n",
       "</div>"
      ],
      "text/plain": [
       "           Date   Cloture\n",
       "0    2000-01-06  1.032400\n",
       "1    2000-01-07  1.029200\n",
       "2    2000-01-08  1.029200\n",
       "3    2000-01-09  1.029200\n",
       "4    2000-01-10  1.025700\n",
       "...         ...       ...\n",
       "8763 2024-01-03  1.054519\n",
       "8764 2024-01-04  1.054519\n",
       "8765 2024-01-05  1.054519\n",
       "8766 2024-01-06  1.054519\n",
       "8767 2024-01-07  1.054519\n",
       "\n",
       "[8768 rows x 2 columns]"
      ]
     },
     "execution_count": 56,
     "metadata": {},
     "output_type": "execute_result"
    }
   ],
   "source": [
    "merged_df"
   ]
  },
  {
   "cell_type": "code",
   "execution_count": 57,
   "id": "fc784fd7-f6c4-4095-b2db-577b5c6ba468",
   "metadata": {},
   "outputs": [
    {
     "data": {
      "image/png": "[encoded data removed]",
      "text/plain": [
       "<Figure size 640x480 with 1 Axes>"
      ]
     },
     "metadata": {},
     "output_type": "display_data"
    }
   ],
   "source": [
    "plt.plot(timeseries)\n",
    "plt.show()\n",
    "# Ordonnées : Clotures\n",
    "# Abscisse : Time step"
   ]
  },
  {
   "cell_type": "code",
   "execution_count": 58,
   "id": "ac3702e8-85ff-417d-839d-8caa83607562",
   "metadata": {},
   "outputs": [],
   "source": [
    "# Usually a time series should be “detrended” to remove the linear trend component and normalized before processing. For simplicity, these are skipped in this project."
   ]
  },
  {
   "cell_type": "code",
   "execution_count": 140,
   "id": "f2e73c61-956f-4145-858e-45d7bdb2606b",
   "metadata": {},
   "outputs": [],
   "source": [
    "from sklearn.preprocessing import MinMaxScaler\n",
    "\n",
    "scaler = MinMaxScaler()\n",
    "# fit the format of the scaler -> convert shape from (1000, ) -> (1000, 1)\n",
    "close_price = merged_df[\"Cloture\"].values.reshape(-1, 1)\n",
    "scaled_close = scaler.fit_transform(close_price)"
   ]
  },
  {
   "cell_type": "code",
   "execution_count": 141,
   "id": "2a340f69-a8d0-4524-bc16-547c5f472d0e",
   "metadata": {},
   "outputs": [],
   "source": [
    "seq_len = 60\n",
    "\n",
    "def split_into_sequences(data, seq_len):\n",
    "    n_seq = len(data) - seq_len + 1\n",
    "    return np.array([data[i:(i+seq_len)] for i in range(n_seq)])\n",
    "\n",
    "def get_train_test_sets(data, seq_len, train_frac):\n",
    "    sequences = split_into_sequences(data, seq_len)\n",
    "    n_train = int(sequences.shape[0] * train_frac)\n",
    "    x_train = sequences[:n_train, :-1, :]\n",
    "    y_train = sequences[:n_train, -1, :]\n",
    "    x_test = sequences[n_train:, :-1, :]\n",
    "    y_test = sequences[n_train:, -1, :]\n",
    "    return x_train, y_train, x_test, y_test\n",
    "\n",
    "x_train, y_train, x_test, y_test = get_train_test_sets(scaled_close, seq_len, train_frac=0.2)"
   ]
  },
  {
   "cell_type": "code",
   "execution_count": 142,
   "id": "1e6b3e67-8113-41a2-84d4-77bd62213e1b",
   "metadata": {},
   "outputs": [
    {
     "name": "stdout",
     "output_type": "stream",
     "text": [
      "test 1\n",
      "[[[0.26584576]\n",
      "  [0.26169799]\n",
      "  [0.26169799]\n",
      "  ...\n",
      "  [0.17770577]\n",
      "  [0.17187297]\n",
      "  [0.17187297]]\n",
      "\n",
      " [[0.26169799]\n",
      "  [0.26169799]\n",
      "  [0.26169799]\n",
      "  ...\n",
      "  [0.17187297]\n",
      "  [0.17187297]\n",
      "  [0.17187297]]\n",
      "\n",
      " [[0.26169799]\n",
      "  [0.26169799]\n",
      "  [0.25716137]\n",
      "  ...\n",
      "  [0.17187297]\n",
      "  [0.17187297]\n",
      "  [0.17122489]]\n",
      "\n",
      " ...\n",
      "\n",
      " [[0.53583927]\n",
      "  [0.53583927]\n",
      "  [0.53272845]\n",
      "  ...\n",
      "  [0.67180817]\n",
      "  [0.67180817]\n",
      "  [0.6646792 ]]\n",
      "\n",
      " [[0.53583927]\n",
      "  [0.53272845]\n",
      "  [0.52469216]\n",
      "  ...\n",
      "  [0.67180817]\n",
      "  [0.6646792 ]\n",
      "  [0.66791964]]\n",
      "\n",
      " [[0.53272845]\n",
      "  [0.52469216]\n",
      "  [0.5279326 ]\n",
      "  ...\n",
      "  [0.6646792 ]\n",
      "  [0.66791964]\n",
      "  [0.65651329]]]\n",
      "test 2\n",
      "[[[0.52469216]\n",
      "  [0.5279326 ]\n",
      "  [0.5323396 ]\n",
      "  ...\n",
      "  [0.66791964]\n",
      "  [0.65651329]\n",
      "  [0.65405055]]\n",
      "\n",
      " [[0.5279326 ]\n",
      "  [0.5323396 ]\n",
      "  [0.54348671]\n",
      "  ...\n",
      "  [0.65651329]\n",
      "  [0.65405055]\n",
      "  [0.64186649]]\n",
      "\n",
      " [[0.5323396 ]\n",
      "  [0.54348671]\n",
      "  [0.54348671]\n",
      "  ...\n",
      "  [0.65405055]\n",
      "  [0.64186649]\n",
      "  [0.64186649]]\n",
      "\n",
      " ...\n",
      "\n",
      " [[0.29451588]\n",
      "  [0.29451588]\n",
      "  [0.29451588]\n",
      "  ...\n",
      "  [0.29451588]\n",
      "  [0.29451588]\n",
      "  [0.29451588]]\n",
      "\n",
      " [[0.29451588]\n",
      "  [0.29451588]\n",
      "  [0.29451588]\n",
      "  ...\n",
      "  [0.29451588]\n",
      "  [0.29451588]\n",
      "  [0.29451588]]\n",
      "\n",
      " [[0.29451588]\n",
      "  [0.29451588]\n",
      "  [0.29451588]\n",
      "  ...\n",
      "  [0.29451588]\n",
      "  [0.29451588]\n",
      "  [0.29451588]]]\n",
      "sequences\n"
     ]
    },
    {
     "data": {
      "text/plain": [
       "8709"
      ]
     },
     "execution_count": 142,
     "metadata": {},
     "output_type": "execute_result"
    }
   ],
   "source": [
    "sequences = split_into_sequences(scaled_close, seq_len)\n",
    "n_train = int(sequences.shape[0] * 0.2)\n",
    "x_train = sequences[:n_train, :-1, :]\n",
    "y_train = sequences[:n_train, -1, :]\n",
    "x_test = sequences[n_train:, :-1, :]\n",
    "y_test = sequences[n_train:, -1, :]\n",
    "\n",
    "print(\"test 1\")\n",
    "print(x_train)\n",
    "\n",
    "\n",
    "print(\"test 2\")\n",
    "print(x_test)\n",
    "\n",
    "print(\"sequences\")\n",
    "len(sequences)\n",
    "\n"
   ]
  },
  {
   "cell_type": "code",
   "execution_count": 143,
   "id": "761f9f11-573e-4e3a-87c7-9a085483556d",
   "metadata": {},
   "outputs": [],
   "source": [
    "import tensorflow as tf \n",
    "from tensorflow import keras\n",
    "from tensorflow.keras.layers import Bidirectional, Dropout, Activation, Dense, LSTM\n",
    "from tensorflow.compat.v1.keras.layers import CuDNNLSTM\n",
    "from tensorflow.keras.models import Sequential\n",
    "\n",
    "# fraction of the input to drop; helps prevent overfitting\n",
    "dropout = 0.2\n",
    "window_size = seq_len - 1\n",
    "\n",
    "# build a 3-layer LSTM RNN\n",
    "model = keras.Sequential()\n",
    "\n",
    "model.add(\n",
    "    LSTM(window_size, return_sequences=True, \n",
    "         input_shape=(window_size, x_train.shape[-1]))\n",
    ")\n",
    "\n",
    "model.add(Dropout(rate=dropout))\n",
    "# Bidirectional allows for training of sequence data forwards and backwards\n",
    "model.add(\n",
    "    Bidirectional(LSTM((window_size * 2), return_sequences=True)\n",
    ")) \n",
    "\n",
    "model.add(Dropout(rate=dropout))\n",
    "model.add(\n",
    "    Bidirectional(LSTM(window_size, return_sequences=False))\n",
    ") \n",
    "\n",
    "model.add(Dense(units=1))\n",
    "# linear activation function: activation is proportional to the input\n",
    "model.add(Activation('linear'))"
   ]
  },
  {
   "cell_type": "code",
   "execution_count": 144,
   "id": "68428a58-040d-43b2-b6cd-22add8237915",
   "metadata": {},
   "outputs": [
    {
     "name": "stdout",
     "output_type": "stream",
     "text": [
      "Epoch 1/15\n",
      "3/3 [==============================] - 35s 8s/step - loss: 0.0157 - val_loss: 0.0047\n",
      "Epoch 2/15\n",
      "3/3 [==============================] - 20s 7s/step - loss: 0.0093 - val_loss: 0.0016\n",
      "Epoch 3/15\n",
      "3/3 [==============================] - 21s 8s/step - loss: 0.0078 - val_loss: 0.0322\n",
      "Epoch 4/15\n",
      "3/3 [==============================] - 22s 8s/step - loss: 0.0048 - val_loss: 0.0141\n",
      "Epoch 5/15\n",
      "3/3 [==============================] - 23s 8s/step - loss: 8.9311e-04 - val_loss: 0.0014\n",
      "Epoch 6/15\n",
      "3/3 [==============================] - 23s 8s/step - loss: 0.0031 - val_loss: 0.0033\n",
      "Epoch 7/15\n",
      "3/3 [==============================] - 23s 8s/step - loss: 0.0014 - val_loss: 0.0018\n",
      "Epoch 8/15\n",
      "3/3 [==============================] - 24s 8s/step - loss: 0.0018 - val_loss: 0.0019\n",
      "Epoch 9/15\n",
      "3/3 [==============================] - 23s 8s/step - loss: 9.6760e-04 - val_loss: 0.0020\n",
      "Epoch 10/15\n",
      "3/3 [==============================] - 24s 9s/step - loss: 0.0013 - val_loss: 0.0044\n",
      "Epoch 11/15\n",
      "3/3 [==============================] - 24s 9s/step - loss: 7.6073e-04 - val_loss: 7.6350e-04\n",
      "Epoch 12/15\n",
      "3/3 [==============================] - 24s 9s/step - loss: 8.9179e-04 - val_loss: 0.0012\n",
      "Epoch 13/15\n",
      "3/3 [==============================] - 24s 9s/step - loss: 7.0197e-04 - val_loss: 7.0213e-04\n",
      "Epoch 14/15\n",
      "3/3 [==============================] - 25s 9s/step - loss: 6.1782e-04 - val_loss: 0.0011\n",
      "Epoch 15/15\n",
      "3/3 [==============================] - 24s 8s/step - loss: 6.9095e-04 - val_loss: 6.9898e-04\n"
     ]
    }
   ],
   "source": [
    "batch_size = 500\n",
    "\n",
    "model.compile(\n",
    "    loss='mean_squared_error',\n",
    "    optimizer='adam'\n",
    ")\n",
    "\n",
    "history = model.fit(\n",
    "    x_train,\n",
    "    y_train,\n",
    "    epochs=15,\n",
    "    batch_size=batch_size,\n",
    "    shuffle=False,\n",
    "    validation_split=0.2\n",
    ")"
   ]
  },
  {
   "cell_type": "code",
   "execution_count": 145,
   "id": "055e1f4f-199c-4a8e-8376-fdf6e72923f8",
   "metadata": {},
   "outputs": [
    {
     "data": {
      "text/plain": [
       "<keras.src.callbacks.History at 0x27b8103ab20>"
      ]
     },
     "execution_count": 145,
     "metadata": {},
     "output_type": "execute_result"
    }
   ],
   "source": [
    "import tensorflow as tf \n",
    "from tensorflow import keras\n",
    "from tensorflow.keras.layers import Bidirectional, Dropout, Activation, Dense, LSTM\n",
    "from tensorflow.compat.v1.keras.layers import CuDNNLSTM\n",
    "from tensorflow.keras.models import Sequential\n",
    "\n",
    "window_size = seq_len - 1\n",
    "\n",
    "\n",
    "model = keras.Sequential()\n",
    "model.add(LSTM(10, activation='relu', input_shape=(window_size, x_train.shape[-1])))\n",
    "model.add(Dense(1))\n",
    "\n",
    "model.compile(optimizer='adam', loss='mse')\n",
    "\n",
    "model.fit(x_train, y_train, epochs=10, verbose=0)"
   ]
  },
  {
   "cell_type": "code",
   "execution_count": 146,
   "id": "71e4bd3e-e048-494a-8c0c-869bd8003311",
   "metadata": {},
   "outputs": [
    {
     "name": "stdout",
     "output_type": "stream",
     "text": [
      "218/218 [==============================] - 3s 12ms/step\n"
     ]
    },
    {
     "data": {
      "image/png": "[encoded data removed]",
      "text/plain": [
       "<Figure size 640x480 with 1 Axes>"
      ]
     },
     "metadata": {},
     "output_type": "display_data"
    }
   ],
   "source": [
    "y_pred = model.predict(x_test)\n",
    "\n",
    "dates = merged_df.iloc[len(merged_df) - len(y_test):]['Date']\n",
    "\n",
    "# invert the scaler to get the absolute price data\n",
    "y_test_orig = scaler.inverse_transform(y_test)\n",
    "y_pred_orig = scaler.inverse_transform(y_pred)\n",
    "\n",
    "# plots of prediction against actual data\n",
    "plt.plot(dates, y_test_orig, label='Actual Value', color='orange')\n",
    "plt.plot(dates, y_pred_orig, label='Predicted Value', color='green')\n",
    " \n",
    "plt.title('taux de change euro dollars')\n",
    "plt.xlabel('Date')\n",
    "plt.ylabel('Value')\n",
    "plt.legend(loc='best')\n",
    "\n",
    "plt.show();"
   ]
  },
  {
   "cell_type": "code",
   "execution_count": 147,
   "id": "4fbb15f4-64a8-4964-8b9c-b0d14af261b8",
   "metadata": {},
   "outputs": [
    {
     "data": {
      "image/png": "[encoded data removed]",
      "text/plain": [
       "<Figure size 640x480 with 1 Axes>"
      ]
     },
     "metadata": {},
     "output_type": "display_data"
    }
   ],
   "source": [
    "dates_train = merged_df.iloc[:len(y_train)]['Date']\n",
    "plt.plot(dates_train, scaler.inverse_transform(y_train), color='brown', label='Historical Value')\n",
    "plt.plot(dates, y_test_orig, color='orange', label='Actual Price')\n",
    "plt.plot(dates, y_pred_orig, color='green', label='Predicted Price')\n",
    "\n",
    "\n",
    "plt.title('taux de change euro dollars')\n",
    "plt.xlabel('Date')\n",
    "plt.ylabel('Value')\n",
    "plt.legend()\n",
    "plt.show();"
   ]
  },
  {
   "cell_type": "code",
   "execution_count": 148,
   "id": "0851e773-6010-4fe2-b46b-c76f47cacaad",
   "metadata": {},
   "outputs": [
    {
     "name": "stdout",
     "output_type": "stream",
     "text": [
      "[[1.3428217]\n",
      " [1.3405182]\n",
      " [1.3381128]\n",
      " ...\n",
      " [1.0598143]\n",
      " [1.0598143]\n",
      " [1.0598143]]\n",
      "TEST\n",
      "[[1.3225  ]\n",
      " [1.3225  ]\n",
      " [1.3225  ]\n",
      " ...\n",
      " [1.054519]\n",
      " [1.054519]\n",
      " [1.054519]]\n"
     ]
    }
   ],
   "source": [
    "print(y_pred_orig)\n",
    "print(\"TEST\")\n",
    "print(y_test_orig)"
   ]
  },
  {
   "cell_type": "code",
   "execution_count": 149,
   "id": "024aa670-c2f4-4c6d-8988-4b8cca8c9bc1",
   "metadata": {},
   "outputs": [
    {
     "name": "stdout",
     "output_type": "stream",
     "text": [
      "           Date   Cloture\n",
      "1800 2004-12-10  1.322500\n",
      "1801 2004-12-11  1.322500\n",
      "1802 2004-12-12  1.322500\n",
      "1803 2004-12-13  1.331100\n",
      "1804 2004-12-14  1.330300\n",
      "...         ...       ...\n",
      "8763 2024-01-03  1.054519\n",
      "8764 2024-01-04  1.054519\n",
      "8765 2024-01-05  1.054519\n",
      "8766 2024-01-06  1.054519\n",
      "8767 2024-01-07  1.054519\n",
      "\n",
      "[6968 rows x 2 columns]\n"
     ]
    },
    {
     "data": {
      "text/plain": [
       "6968"
      ]
     },
     "execution_count": 149,
     "metadata": {},
     "output_type": "execute_result"
    }
   ],
   "source": [
    "n_rows_90_percent = len(y_test)\n",
    "\n",
    "# Sélectionner les premières 90% lignes pour le nouveau DataFrame\n",
    "df_90_percent = merged_df.tail(n_rows_90_percent)\n",
    "\n",
    "# Afficher les premières lignes du nouveau DataFrame\n",
    "print(df_90_percent)\n",
    "len(df_90_percent)\n",
    "\n"
   ]
  },
  {
   "cell_type": "code",
   "execution_count": 150,
   "id": "9135d008-10ec-4058-8e33-d37b1dfd76b0",
   "metadata": {},
   "outputs": [
    {
     "name": "stderr",
     "output_type": "stream",
     "text": [
      "C:\\Users\\rapha\\AppData\\Local\\Temp\\ipykernel_5464\\1746225333.py:1: SettingWithCopyWarning: \n",
      "A value is trying to be set on a copy of a slice from a DataFrame.\n",
      "Try using .loc[row_indexer,col_indexer] = value instead\n",
      "\n",
      "See the caveats in the documentation: https://pandas.pydata.org/pandas-docs/stable/user_guide/indexing.html#returning-a-view-versus-a-copy\n",
      "  df_90_percent[\"Prediction\"] = y_pred_orig\n"
     ]
    },
    {
     "data": {
      "text/html": [
       "<div>\n",
       "<style scoped>\n",
       "    .dataframe tbody tr th:only-of-type {\n",
       "        vertical-align: middle;\n",
       "    }\n",
       "\n",
       "    .dataframe tbody tr th {\n",
       "        vertical-align: top;\n",
       "    }\n",
       "\n",
       "    .dataframe thead th {\n",
       "        text-align: right;\n",
       "    }\n",
       "</style>\n",
       "<table border=\"1\" class=\"dataframe\">\n",
       "  <thead>\n",
       "    <tr style=\"text-align: right;\">\n",
       "      <th></th>\n",
       "      <th>Date</th>\n",
       "      <th>Cloture</th>\n",
       "      <th>Prediction</th>\n",
       "    </tr>\n",
       "  </thead>\n",
       "  <tbody>\n",
       "    <tr>\n",
       "      <th>8763</th>\n",
       "      <td>2024-01-03</td>\n",
       "      <td>1.054519</td>\n",
       "      <td>1.059814</td>\n",
       "    </tr>\n",
       "    <tr>\n",
       "      <th>8764</th>\n",
       "      <td>2024-01-04</td>\n",
       "      <td>1.054519</td>\n",
       "      <td>1.059814</td>\n",
       "    </tr>\n",
       "    <tr>\n",
       "      <th>8765</th>\n",
       "      <td>2024-01-05</td>\n",
       "      <td>1.054519</td>\n",
       "      <td>1.059814</td>\n",
       "    </tr>\n",
       "    <tr>\n",
       "      <th>8766</th>\n",
       "      <td>2024-01-06</td>\n",
       "      <td>1.054519</td>\n",
       "      <td>1.059814</td>\n",
       "    </tr>\n",
       "    <tr>\n",
       "      <th>8767</th>\n",
       "      <td>2024-01-07</td>\n",
       "      <td>1.054519</td>\n",
       "      <td>1.059814</td>\n",
       "    </tr>\n",
       "  </tbody>\n",
       "</table>\n",
       "</div>"
      ],
      "text/plain": [
       "           Date   Cloture  Prediction\n",
       "8763 2024-01-03  1.054519    1.059814\n",
       "8764 2024-01-04  1.054519    1.059814\n",
       "8765 2024-01-05  1.054519    1.059814\n",
       "8766 2024-01-06  1.054519    1.059814\n",
       "8767 2024-01-07  1.054519    1.059814"
      ]
     },
     "execution_count": 150,
     "metadata": {},
     "output_type": "execute_result"
    }
   ],
   "source": [
    "df_90_percent[\"Prediction\"] = y_pred_orig\n",
    "\n",
    "df_90_percent.tail()"
   ]
  },
  {
   "cell_type": "code",
   "execution_count": 151,
   "id": "50fcb3a6-f517-4b1f-a42f-a162dd91d11c",
   "metadata": {},
   "outputs": [
    {
     "name": "stdout",
     "output_type": "stream",
     "text": [
      "           Date   Cloture  Prediction     Ecart\n",
      "1800 2004-12-10  1.322500    1.342822  0.020322\n",
      "1801 2004-12-11  1.322500    1.340518  0.018018\n",
      "1802 2004-12-12  1.322500    1.338113  0.015613\n",
      "1803 2004-12-13  1.331100    1.335946  0.004846\n",
      "1804 2004-12-14  1.330300    1.335328  0.005028\n",
      "...         ...       ...         ...       ...\n",
      "8763 2024-01-03  1.054519    1.059814  0.005295\n",
      "8764 2024-01-04  1.054519    1.059814  0.005295\n",
      "8765 2024-01-05  1.054519    1.059814  0.005295\n",
      "8766 2024-01-06  1.054519    1.059814  0.005295\n",
      "8767 2024-01-07  1.054519    1.059814  0.005295\n",
      "\n",
      "[6968 rows x 4 columns]\n"
     ]
    },
    {
     "name": "stderr",
     "output_type": "stream",
     "text": [
      "C:\\Users\\rapha\\AppData\\Local\\Temp\\ipykernel_5464\\1516014793.py:1: SettingWithCopyWarning: \n",
      "A value is trying to be set on a copy of a slice from a DataFrame.\n",
      "Try using .loc[row_indexer,col_indexer] = value instead\n",
      "\n",
      "See the caveats in the documentation: https://pandas.pydata.org/pandas-docs/stable/user_guide/indexing.html#returning-a-view-versus-a-copy\n",
      "  df_90_percent[\"Ecart\"] = df_90_percent[\"Prediction\"] - df_90_percent[\"Cloture\"]\n"
     ]
    }
   ],
   "source": [
    "df_90_percent[\"Ecart\"] = df_90_percent[\"Prediction\"] - df_90_percent[\"Cloture\"]\n",
    "print(df_90_percent)"
   ]
  },
  {
   "cell_type": "code",
   "execution_count": 152,
   "id": "f88d7c63-66ad-45c7-8c8d-55278888acb1",
   "metadata": {},
   "outputs": [
    {
     "data": {
      "text/plain": [
       "0.0014696790963971242"
      ]
     },
     "execution_count": 152,
     "metadata": {},
     "output_type": "execute_result"
    }
   ],
   "source": [
    "df_90_percent[\"Ecart\"].mean()"
   ]
  },
  {
   "cell_type": "code",
   "execution_count": 153,
   "id": "908f2847-604c-4ae7-b4a9-4c039b2321cb",
   "metadata": {},
   "outputs": [
    {
     "data": {
      "image/png": "[encoded data removed]",
      "text/plain": [
       "<Figure size 640x480 with 1 Axes>"
      ]
     },
     "metadata": {},
     "output_type": "display_data"
    },
    {
     "data": {
      "text/html": [
       "<div>\n",
       "<style scoped>\n",
       "    .dataframe tbody tr th:only-of-type {\n",
       "        vertical-align: middle;\n",
       "    }\n",
       "\n",
       "    .dataframe tbody tr th {\n",
       "        vertical-align: top;\n",
       "    }\n",
       "\n",
       "    .dataframe thead th {\n",
       "        text-align: right;\n",
       "    }\n",
       "</style>\n",
       "<table border=\"1\" class=\"dataframe\">\n",
       "  <thead>\n",
       "    <tr style=\"text-align: right;\">\n",
       "      <th></th>\n",
       "      <th>Date</th>\n",
       "      <th>Cloture</th>\n",
       "    </tr>\n",
       "  </thead>\n",
       "  <tbody>\n",
       "    <tr>\n",
       "      <th>0</th>\n",
       "      <td>2000-01-06</td>\n",
       "      <td>1.0324</td>\n",
       "    </tr>\n",
       "    <tr>\n",
       "      <th>1</th>\n",
       "      <td>2000-01-07</td>\n",
       "      <td>1.0292</td>\n",
       "    </tr>\n",
       "    <tr>\n",
       "      <th>2</th>\n",
       "      <td>2000-01-08</td>\n",
       "      <td>1.0292</td>\n",
       "    </tr>\n",
       "    <tr>\n",
       "      <th>3</th>\n",
       "      <td>2000-01-09</td>\n",
       "      <td>1.0292</td>\n",
       "    </tr>\n",
       "    <tr>\n",
       "      <th>4</th>\n",
       "      <td>2000-01-10</td>\n",
       "      <td>1.0257</td>\n",
       "    </tr>\n",
       "  </tbody>\n",
       "</table>\n",
       "</div>"
      ],
      "text/plain": [
       "        Date  Cloture\n",
       "0 2000-01-06   1.0324\n",
       "1 2000-01-07   1.0292\n",
       "2 2000-01-08   1.0292\n",
       "3 2000-01-09   1.0292\n",
       "4 2000-01-10   1.0257"
      ]
     },
     "execution_count": 153,
     "metadata": {},
     "output_type": "execute_result"
    }
   ],
   "source": [
    "dates_train = merged_df.iloc[:len(y_train)]['Date']\n",
    "dates_test = merged_df.iloc[len(merged_df) - len(y_test):]['Date']\n",
    "dates_pred = merged_df.iloc[len(merged_df) - len(y_test):]['Date']\n",
    "\n",
    "# Inversion de l'échelle pour obtenir les données de prix absolues\n",
    "y_train_orig = scaler.inverse_transform(y_train)\n",
    "y_test_orig = scaler.inverse_transform(y_test)\n",
    "y_pred_orig = scaler.inverse_transform(y_pred)\n",
    "\n",
    "# Tracer les résultats de l'entraînement, des données réelles et prédites par rapport à leurs dates\n",
    "plt.plot(dates_train, y_train_orig, color='brown', label='Historical Price')\n",
    "plt.plot(dates_test, y_test_orig, color='orange', label='Actual Price')\n",
    "plt.plot(dates_pred, y_pred_orig, color='green', label='Predicted Price')\n",
    "\n",
    "plt.title('taux de change euro dollars')\n",
    "plt.xlabel('Time step')\n",
    "plt.ylabel('Value')\n",
    "plt.legend()\n",
    "plt.show();\n",
    "merged_df.head()"
   ]
  },
  {
   "cell_type": "code",
   "execution_count": 154,
   "id": "ba3173b4-6c93-4641-a2dd-7ba9060772a9",
   "metadata": {},
   "outputs": [
    {
     "name": "stdout",
     "output_type": "stream",
     "text": [
      "Mean Squared Error (MSE): 0.00013730867589166598\n",
      "Mean Absolute Error (MAE): 0.008638913697599681\n",
      "Mean Absolute Percentage Error (MAPE): 0.6904437564569803%\n"
     ]
    }
   ],
   "source": [
    "from sklearn.metrics import mean_squared_error, mean_absolute_error\n",
    "\n",
    "# Calcul du Mean Squared Error (MSE)\n",
    "mse = mean_squared_error(y_test_orig, y_pred_orig)\n",
    "print(f\"Mean Squared Error (MSE): {mse}\")\n",
    "\n",
    "# Calcul du Mean Absolute Error (MAE)\n",
    "mae = mean_absolute_error(y_test_orig, y_pred_orig)\n",
    "print(f\"Mean Absolute Error (MAE): {mae}\")\n",
    "\n",
    "# Calcul du Mean Absolute Percentage Error (MAPE)\n",
    "def mean_absolute_percentage_error(y_true, y_pred): \n",
    "    return np.mean(np.abs((y_true - y_pred) / y_true)) * 100\n",
    "\n",
    "mape = mean_absolute_percentage_error(y_test_orig, y_pred_orig)\n",
    "print(f\"Mean Absolute Percentage Error (MAPE): {mape}%\")"
   ]
  },
  {
   "cell_type": "code",
   "execution_count": null,
   "id": "47e03c86-0f85-4496-b3af-85e49b9da52a",
   "metadata": {},
   "outputs": [],
   "source": []
  },
  {
   "cell_type": "code",
   "execution_count": null,
   "id": "936a94c1-9ca7-4b18-9ad3-fc0d2998a887",
   "metadata": {},
   "outputs": [],
   "source": []
  },
  {
   "cell_type": "code",
   "execution_count": null,
   "id": "c26a8231-d02f-4264-b978-d24521410664",
   "metadata": {},
   "outputs": [],
   "source": []
  }
 ],
 "metadata": {
  "kernelspec": {
   "display_name": "Python 3 (ipykernel)",
   "language": "python",
   "name": "python3"
  },
  "language_info": {
   "codemirror_mode": {
    "name": "ipython",
    "version": 3
   },
   "file_extension": ".py",
   "mimetype": "text/x-python",
   "name": "python",
   "nbconvert_exporter": "python",
   "pygments_lexer": "ipython3",
   "version": "3.9.13"
  }
 },
 "nbformat": 4,
 "nbformat_minor": 5
}
